{
 "cells": [
  {
   "cell_type": "markdown",
   "metadata": {},
   "source": [
    "# Import Modules and Data"
   ]
  },
  {
   "cell_type": "code",
   "execution_count": 1,
   "metadata": {},
   "outputs": [],
   "source": [
    "import pandas as pd\n",
    "import seaborn as sn\n",
    "import matplotlib.pyplot as plt"
   ]
  },
  {
   "cell_type": "code",
   "execution_count": 2,
   "metadata": {},
   "outputs": [],
   "source": [
    "df = pd.read_csv('creditonedata_cleaned.csv')"
   ]
  },
  {
   "cell_type": "code",
   "execution_count": 3,
   "metadata": {},
   "outputs": [
    {
     "data": {
      "text/html": [
       "<div>\n",
       "<style scoped>\n",
       "    .dataframe tbody tr th:only-of-type {\n",
       "        vertical-align: middle;\n",
       "    }\n",
       "\n",
       "    .dataframe tbody tr th {\n",
       "        vertical-align: top;\n",
       "    }\n",
       "\n",
       "    .dataframe thead th {\n",
       "        text-align: right;\n",
       "    }\n",
       "</style>\n",
       "<table border=\"1\" class=\"dataframe\">\n",
       "  <thead>\n",
       "    <tr style=\"text-align: right;\">\n",
       "      <th></th>\n",
       "      <th>Unnamed: 0</th>\n",
       "      <th>limit_bal</th>\n",
       "      <th>marriage</th>\n",
       "      <th>age</th>\n",
       "      <th>pay_0</th>\n",
       "      <th>pay_2</th>\n",
       "      <th>pay_3</th>\n",
       "      <th>pay_4</th>\n",
       "      <th>pay_5</th>\n",
       "      <th>pay_6</th>\n",
       "      <th>...</th>\n",
       "      <th>pay_amt5</th>\n",
       "      <th>pay_amt6</th>\n",
       "      <th>sex_female</th>\n",
       "      <th>sex_male</th>\n",
       "      <th>education_graduate school</th>\n",
       "      <th>education_high school</th>\n",
       "      <th>education_other</th>\n",
       "      <th>education_university</th>\n",
       "      <th>default_default</th>\n",
       "      <th>default_not default</th>\n",
       "    </tr>\n",
       "  </thead>\n",
       "  <tbody>\n",
       "    <tr>\n",
       "      <th>0</th>\n",
       "      <td>1</td>\n",
       "      <td>20000</td>\n",
       "      <td>1</td>\n",
       "      <td>24</td>\n",
       "      <td>2</td>\n",
       "      <td>2</td>\n",
       "      <td>-1</td>\n",
       "      <td>-1</td>\n",
       "      <td>-2</td>\n",
       "      <td>-2</td>\n",
       "      <td>...</td>\n",
       "      <td>0</td>\n",
       "      <td>0</td>\n",
       "      <td>1</td>\n",
       "      <td>0</td>\n",
       "      <td>0</td>\n",
       "      <td>0</td>\n",
       "      <td>0</td>\n",
       "      <td>1</td>\n",
       "      <td>1</td>\n",
       "      <td>0</td>\n",
       "    </tr>\n",
       "    <tr>\n",
       "      <th>1</th>\n",
       "      <td>2</td>\n",
       "      <td>120000</td>\n",
       "      <td>2</td>\n",
       "      <td>26</td>\n",
       "      <td>-1</td>\n",
       "      <td>2</td>\n",
       "      <td>0</td>\n",
       "      <td>0</td>\n",
       "      <td>0</td>\n",
       "      <td>2</td>\n",
       "      <td>...</td>\n",
       "      <td>0</td>\n",
       "      <td>2000</td>\n",
       "      <td>1</td>\n",
       "      <td>0</td>\n",
       "      <td>0</td>\n",
       "      <td>0</td>\n",
       "      <td>0</td>\n",
       "      <td>1</td>\n",
       "      <td>1</td>\n",
       "      <td>0</td>\n",
       "    </tr>\n",
       "    <tr>\n",
       "      <th>2</th>\n",
       "      <td>3</td>\n",
       "      <td>90000</td>\n",
       "      <td>2</td>\n",
       "      <td>34</td>\n",
       "      <td>0</td>\n",
       "      <td>0</td>\n",
       "      <td>0</td>\n",
       "      <td>0</td>\n",
       "      <td>0</td>\n",
       "      <td>0</td>\n",
       "      <td>...</td>\n",
       "      <td>1000</td>\n",
       "      <td>5000</td>\n",
       "      <td>1</td>\n",
       "      <td>0</td>\n",
       "      <td>0</td>\n",
       "      <td>0</td>\n",
       "      <td>0</td>\n",
       "      <td>1</td>\n",
       "      <td>0</td>\n",
       "      <td>1</td>\n",
       "    </tr>\n",
       "    <tr>\n",
       "      <th>3</th>\n",
       "      <td>4</td>\n",
       "      <td>50000</td>\n",
       "      <td>1</td>\n",
       "      <td>37</td>\n",
       "      <td>0</td>\n",
       "      <td>0</td>\n",
       "      <td>0</td>\n",
       "      <td>0</td>\n",
       "      <td>0</td>\n",
       "      <td>0</td>\n",
       "      <td>...</td>\n",
       "      <td>1069</td>\n",
       "      <td>1000</td>\n",
       "      <td>1</td>\n",
       "      <td>0</td>\n",
       "      <td>0</td>\n",
       "      <td>0</td>\n",
       "      <td>0</td>\n",
       "      <td>1</td>\n",
       "      <td>0</td>\n",
       "      <td>1</td>\n",
       "    </tr>\n",
       "    <tr>\n",
       "      <th>4</th>\n",
       "      <td>5</td>\n",
       "      <td>50000</td>\n",
       "      <td>1</td>\n",
       "      <td>57</td>\n",
       "      <td>-1</td>\n",
       "      <td>0</td>\n",
       "      <td>-1</td>\n",
       "      <td>0</td>\n",
       "      <td>0</td>\n",
       "      <td>0</td>\n",
       "      <td>...</td>\n",
       "      <td>689</td>\n",
       "      <td>679</td>\n",
       "      <td>0</td>\n",
       "      <td>1</td>\n",
       "      <td>0</td>\n",
       "      <td>0</td>\n",
       "      <td>0</td>\n",
       "      <td>1</td>\n",
       "      <td>0</td>\n",
       "      <td>1</td>\n",
       "    </tr>\n",
       "  </tbody>\n",
       "</table>\n",
       "<p>5 rows × 30 columns</p>\n",
       "</div>"
      ],
      "text/plain": [
       "   Unnamed: 0  limit_bal  marriage  age  pay_0  pay_2  pay_3  pay_4  pay_5  \\\n",
       "0           1      20000         1   24      2      2     -1     -1     -2   \n",
       "1           2     120000         2   26     -1      2      0      0      0   \n",
       "2           3      90000         2   34      0      0      0      0      0   \n",
       "3           4      50000         1   37      0      0      0      0      0   \n",
       "4           5      50000         1   57     -1      0     -1      0      0   \n",
       "\n",
       "   pay_6  ...  pay_amt5  pay_amt6  sex_female  sex_male  \\\n",
       "0     -2  ...         0         0           1         0   \n",
       "1      2  ...         0      2000           1         0   \n",
       "2      0  ...      1000      5000           1         0   \n",
       "3      0  ...      1069      1000           1         0   \n",
       "4      0  ...       689       679           0         1   \n",
       "\n",
       "   education_graduate school  education_high school  education_other  \\\n",
       "0                          0                      0                0   \n",
       "1                          0                      0                0   \n",
       "2                          0                      0                0   \n",
       "3                          0                      0                0   \n",
       "4                          0                      0                0   \n",
       "\n",
       "   education_university  default_default  default_not default  \n",
       "0                     1                1                    0  \n",
       "1                     1                1                    0  \n",
       "2                     1                0                    1  \n",
       "3                     1                0                    1  \n",
       "4                     1                0                    1  \n",
       "\n",
       "[5 rows x 30 columns]"
      ]
     },
     "execution_count": 3,
     "metadata": {},
     "output_type": "execute_result"
    }
   ],
   "source": [
    "df.head()"
   ]
  },
  {
   "cell_type": "code",
   "execution_count": 4,
   "metadata": {},
   "outputs": [],
   "source": [
    "df = df.drop(['Unnamed: 0'], axis = 1)"
   ]
  },
  {
   "cell_type": "code",
   "execution_count": 5,
   "metadata": {},
   "outputs": [
    {
     "data": {
      "text/html": [
       "<div>\n",
       "<style scoped>\n",
       "    .dataframe tbody tr th:only-of-type {\n",
       "        vertical-align: middle;\n",
       "    }\n",
       "\n",
       "    .dataframe tbody tr th {\n",
       "        vertical-align: top;\n",
       "    }\n",
       "\n",
       "    .dataframe thead th {\n",
       "        text-align: right;\n",
       "    }\n",
       "</style>\n",
       "<table border=\"1\" class=\"dataframe\">\n",
       "  <thead>\n",
       "    <tr style=\"text-align: right;\">\n",
       "      <th></th>\n",
       "      <th>limit_bal</th>\n",
       "      <th>marriage</th>\n",
       "      <th>age</th>\n",
       "      <th>pay_0</th>\n",
       "      <th>pay_2</th>\n",
       "      <th>pay_3</th>\n",
       "      <th>pay_4</th>\n",
       "      <th>pay_5</th>\n",
       "      <th>pay_6</th>\n",
       "      <th>bill_amt1</th>\n",
       "      <th>...</th>\n",
       "      <th>pay_amt5</th>\n",
       "      <th>pay_amt6</th>\n",
       "      <th>sex_female</th>\n",
       "      <th>sex_male</th>\n",
       "      <th>education_graduate school</th>\n",
       "      <th>education_high school</th>\n",
       "      <th>education_other</th>\n",
       "      <th>education_university</th>\n",
       "      <th>default_default</th>\n",
       "      <th>default_not default</th>\n",
       "    </tr>\n",
       "  </thead>\n",
       "  <tbody>\n",
       "    <tr>\n",
       "      <th>0</th>\n",
       "      <td>20000</td>\n",
       "      <td>1</td>\n",
       "      <td>24</td>\n",
       "      <td>2</td>\n",
       "      <td>2</td>\n",
       "      <td>-1</td>\n",
       "      <td>-1</td>\n",
       "      <td>-2</td>\n",
       "      <td>-2</td>\n",
       "      <td>3913</td>\n",
       "      <td>...</td>\n",
       "      <td>0</td>\n",
       "      <td>0</td>\n",
       "      <td>1</td>\n",
       "      <td>0</td>\n",
       "      <td>0</td>\n",
       "      <td>0</td>\n",
       "      <td>0</td>\n",
       "      <td>1</td>\n",
       "      <td>1</td>\n",
       "      <td>0</td>\n",
       "    </tr>\n",
       "    <tr>\n",
       "      <th>1</th>\n",
       "      <td>120000</td>\n",
       "      <td>2</td>\n",
       "      <td>26</td>\n",
       "      <td>-1</td>\n",
       "      <td>2</td>\n",
       "      <td>0</td>\n",
       "      <td>0</td>\n",
       "      <td>0</td>\n",
       "      <td>2</td>\n",
       "      <td>2682</td>\n",
       "      <td>...</td>\n",
       "      <td>0</td>\n",
       "      <td>2000</td>\n",
       "      <td>1</td>\n",
       "      <td>0</td>\n",
       "      <td>0</td>\n",
       "      <td>0</td>\n",
       "      <td>0</td>\n",
       "      <td>1</td>\n",
       "      <td>1</td>\n",
       "      <td>0</td>\n",
       "    </tr>\n",
       "    <tr>\n",
       "      <th>2</th>\n",
       "      <td>90000</td>\n",
       "      <td>2</td>\n",
       "      <td>34</td>\n",
       "      <td>0</td>\n",
       "      <td>0</td>\n",
       "      <td>0</td>\n",
       "      <td>0</td>\n",
       "      <td>0</td>\n",
       "      <td>0</td>\n",
       "      <td>29239</td>\n",
       "      <td>...</td>\n",
       "      <td>1000</td>\n",
       "      <td>5000</td>\n",
       "      <td>1</td>\n",
       "      <td>0</td>\n",
       "      <td>0</td>\n",
       "      <td>0</td>\n",
       "      <td>0</td>\n",
       "      <td>1</td>\n",
       "      <td>0</td>\n",
       "      <td>1</td>\n",
       "    </tr>\n",
       "    <tr>\n",
       "      <th>3</th>\n",
       "      <td>50000</td>\n",
       "      <td>1</td>\n",
       "      <td>37</td>\n",
       "      <td>0</td>\n",
       "      <td>0</td>\n",
       "      <td>0</td>\n",
       "      <td>0</td>\n",
       "      <td>0</td>\n",
       "      <td>0</td>\n",
       "      <td>46990</td>\n",
       "      <td>...</td>\n",
       "      <td>1069</td>\n",
       "      <td>1000</td>\n",
       "      <td>1</td>\n",
       "      <td>0</td>\n",
       "      <td>0</td>\n",
       "      <td>0</td>\n",
       "      <td>0</td>\n",
       "      <td>1</td>\n",
       "      <td>0</td>\n",
       "      <td>1</td>\n",
       "    </tr>\n",
       "    <tr>\n",
       "      <th>4</th>\n",
       "      <td>50000</td>\n",
       "      <td>1</td>\n",
       "      <td>57</td>\n",
       "      <td>-1</td>\n",
       "      <td>0</td>\n",
       "      <td>-1</td>\n",
       "      <td>0</td>\n",
       "      <td>0</td>\n",
       "      <td>0</td>\n",
       "      <td>8617</td>\n",
       "      <td>...</td>\n",
       "      <td>689</td>\n",
       "      <td>679</td>\n",
       "      <td>0</td>\n",
       "      <td>1</td>\n",
       "      <td>0</td>\n",
       "      <td>0</td>\n",
       "      <td>0</td>\n",
       "      <td>1</td>\n",
       "      <td>0</td>\n",
       "      <td>1</td>\n",
       "    </tr>\n",
       "  </tbody>\n",
       "</table>\n",
       "<p>5 rows × 29 columns</p>\n",
       "</div>"
      ],
      "text/plain": [
       "   limit_bal  marriage  age  pay_0  pay_2  pay_3  pay_4  pay_5  pay_6  \\\n",
       "0      20000         1   24      2      2     -1     -1     -2     -2   \n",
       "1     120000         2   26     -1      2      0      0      0      2   \n",
       "2      90000         2   34      0      0      0      0      0      0   \n",
       "3      50000         1   37      0      0      0      0      0      0   \n",
       "4      50000         1   57     -1      0     -1      0      0      0   \n",
       "\n",
       "   bill_amt1  ...  pay_amt5  pay_amt6  sex_female  sex_male  \\\n",
       "0       3913  ...         0         0           1         0   \n",
       "1       2682  ...         0      2000           1         0   \n",
       "2      29239  ...      1000      5000           1         0   \n",
       "3      46990  ...      1069      1000           1         0   \n",
       "4       8617  ...       689       679           0         1   \n",
       "\n",
       "   education_graduate school  education_high school  education_other  \\\n",
       "0                          0                      0                0   \n",
       "1                          0                      0                0   \n",
       "2                          0                      0                0   \n",
       "3                          0                      0                0   \n",
       "4                          0                      0                0   \n",
       "\n",
       "   education_university  default_default  default_not default  \n",
       "0                     1                1                    0  \n",
       "1                     1                1                    0  \n",
       "2                     1                0                    1  \n",
       "3                     1                0                    1  \n",
       "4                     1                0                    1  \n",
       "\n",
       "[5 rows x 29 columns]"
      ]
     },
     "execution_count": 5,
     "metadata": {},
     "output_type": "execute_result"
    }
   ],
   "source": [
    "df.head()"
   ]
  },
  {
   "cell_type": "code",
   "execution_count": 6,
   "metadata": {},
   "outputs": [],
   "source": [
    "#lets drop some binary columns\n",
    "\n",
    "df = df.drop(['sex_male'], axis = 1)\n",
    "df = df.drop(['default_not default'], axis = 1)"
   ]
  },
  {
   "cell_type": "code",
   "execution_count": 7,
   "metadata": {},
   "outputs": [
    {
     "data": {
      "text/html": [
       "<div>\n",
       "<style scoped>\n",
       "    .dataframe tbody tr th:only-of-type {\n",
       "        vertical-align: middle;\n",
       "    }\n",
       "\n",
       "    .dataframe tbody tr th {\n",
       "        vertical-align: top;\n",
       "    }\n",
       "\n",
       "    .dataframe thead th {\n",
       "        text-align: right;\n",
       "    }\n",
       "</style>\n",
       "<table border=\"1\" class=\"dataframe\">\n",
       "  <thead>\n",
       "    <tr style=\"text-align: right;\">\n",
       "      <th></th>\n",
       "      <th>limit_bal</th>\n",
       "      <th>marriage</th>\n",
       "      <th>age</th>\n",
       "      <th>pay_0</th>\n",
       "      <th>pay_2</th>\n",
       "      <th>pay_3</th>\n",
       "      <th>pay_4</th>\n",
       "      <th>pay_5</th>\n",
       "      <th>pay_6</th>\n",
       "      <th>bill_amt1</th>\n",
       "      <th>...</th>\n",
       "      <th>pay_amt3</th>\n",
       "      <th>pay_amt4</th>\n",
       "      <th>pay_amt5</th>\n",
       "      <th>pay_amt6</th>\n",
       "      <th>sex_female</th>\n",
       "      <th>education_graduate school</th>\n",
       "      <th>education_high school</th>\n",
       "      <th>education_other</th>\n",
       "      <th>education_university</th>\n",
       "      <th>default_default</th>\n",
       "    </tr>\n",
       "  </thead>\n",
       "  <tbody>\n",
       "    <tr>\n",
       "      <th>0</th>\n",
       "      <td>20000</td>\n",
       "      <td>1</td>\n",
       "      <td>24</td>\n",
       "      <td>2</td>\n",
       "      <td>2</td>\n",
       "      <td>-1</td>\n",
       "      <td>-1</td>\n",
       "      <td>-2</td>\n",
       "      <td>-2</td>\n",
       "      <td>3913</td>\n",
       "      <td>...</td>\n",
       "      <td>0</td>\n",
       "      <td>0</td>\n",
       "      <td>0</td>\n",
       "      <td>0</td>\n",
       "      <td>1</td>\n",
       "      <td>0</td>\n",
       "      <td>0</td>\n",
       "      <td>0</td>\n",
       "      <td>1</td>\n",
       "      <td>1</td>\n",
       "    </tr>\n",
       "    <tr>\n",
       "      <th>1</th>\n",
       "      <td>120000</td>\n",
       "      <td>2</td>\n",
       "      <td>26</td>\n",
       "      <td>-1</td>\n",
       "      <td>2</td>\n",
       "      <td>0</td>\n",
       "      <td>0</td>\n",
       "      <td>0</td>\n",
       "      <td>2</td>\n",
       "      <td>2682</td>\n",
       "      <td>...</td>\n",
       "      <td>1000</td>\n",
       "      <td>1000</td>\n",
       "      <td>0</td>\n",
       "      <td>2000</td>\n",
       "      <td>1</td>\n",
       "      <td>0</td>\n",
       "      <td>0</td>\n",
       "      <td>0</td>\n",
       "      <td>1</td>\n",
       "      <td>1</td>\n",
       "    </tr>\n",
       "    <tr>\n",
       "      <th>2</th>\n",
       "      <td>90000</td>\n",
       "      <td>2</td>\n",
       "      <td>34</td>\n",
       "      <td>0</td>\n",
       "      <td>0</td>\n",
       "      <td>0</td>\n",
       "      <td>0</td>\n",
       "      <td>0</td>\n",
       "      <td>0</td>\n",
       "      <td>29239</td>\n",
       "      <td>...</td>\n",
       "      <td>1000</td>\n",
       "      <td>1000</td>\n",
       "      <td>1000</td>\n",
       "      <td>5000</td>\n",
       "      <td>1</td>\n",
       "      <td>0</td>\n",
       "      <td>0</td>\n",
       "      <td>0</td>\n",
       "      <td>1</td>\n",
       "      <td>0</td>\n",
       "    </tr>\n",
       "    <tr>\n",
       "      <th>3</th>\n",
       "      <td>50000</td>\n",
       "      <td>1</td>\n",
       "      <td>37</td>\n",
       "      <td>0</td>\n",
       "      <td>0</td>\n",
       "      <td>0</td>\n",
       "      <td>0</td>\n",
       "      <td>0</td>\n",
       "      <td>0</td>\n",
       "      <td>46990</td>\n",
       "      <td>...</td>\n",
       "      <td>1200</td>\n",
       "      <td>1100</td>\n",
       "      <td>1069</td>\n",
       "      <td>1000</td>\n",
       "      <td>1</td>\n",
       "      <td>0</td>\n",
       "      <td>0</td>\n",
       "      <td>0</td>\n",
       "      <td>1</td>\n",
       "      <td>0</td>\n",
       "    </tr>\n",
       "    <tr>\n",
       "      <th>4</th>\n",
       "      <td>50000</td>\n",
       "      <td>1</td>\n",
       "      <td>57</td>\n",
       "      <td>-1</td>\n",
       "      <td>0</td>\n",
       "      <td>-1</td>\n",
       "      <td>0</td>\n",
       "      <td>0</td>\n",
       "      <td>0</td>\n",
       "      <td>8617</td>\n",
       "      <td>...</td>\n",
       "      <td>10000</td>\n",
       "      <td>9000</td>\n",
       "      <td>689</td>\n",
       "      <td>679</td>\n",
       "      <td>0</td>\n",
       "      <td>0</td>\n",
       "      <td>0</td>\n",
       "      <td>0</td>\n",
       "      <td>1</td>\n",
       "      <td>0</td>\n",
       "    </tr>\n",
       "  </tbody>\n",
       "</table>\n",
       "<p>5 rows × 27 columns</p>\n",
       "</div>"
      ],
      "text/plain": [
       "   limit_bal  marriage  age  pay_0  pay_2  pay_3  pay_4  pay_5  pay_6  \\\n",
       "0      20000         1   24      2      2     -1     -1     -2     -2   \n",
       "1     120000         2   26     -1      2      0      0      0      2   \n",
       "2      90000         2   34      0      0      0      0      0      0   \n",
       "3      50000         1   37      0      0      0      0      0      0   \n",
       "4      50000         1   57     -1      0     -1      0      0      0   \n",
       "\n",
       "   bill_amt1  ...  pay_amt3  pay_amt4  pay_amt5  pay_amt6  sex_female  \\\n",
       "0       3913  ...         0         0         0         0           1   \n",
       "1       2682  ...      1000      1000         0      2000           1   \n",
       "2      29239  ...      1000      1000      1000      5000           1   \n",
       "3      46990  ...      1200      1100      1069      1000           1   \n",
       "4       8617  ...     10000      9000       689       679           0   \n",
       "\n",
       "   education_graduate school  education_high school  education_other  \\\n",
       "0                          0                      0                0   \n",
       "1                          0                      0                0   \n",
       "2                          0                      0                0   \n",
       "3                          0                      0                0   \n",
       "4                          0                      0                0   \n",
       "\n",
       "   education_university  default_default  \n",
       "0                     1                1  \n",
       "1                     1                1  \n",
       "2                     1                0  \n",
       "3                     1                0  \n",
       "4                     1                0  \n",
       "\n",
       "[5 rows x 27 columns]"
      ]
     },
     "execution_count": 7,
     "metadata": {},
     "output_type": "execute_result"
    }
   ],
   "source": [
    "df.head()"
   ]
  },
  {
   "cell_type": "code",
   "execution_count": 8,
   "metadata": {},
   "outputs": [],
   "source": [
    "#rename a couple of columns for clarity\n",
    "\n",
    "df = df.rename(columns = {'pay_0': 'pay_1', 'sex_female': 'sex', 'default_default': 'default'})\n",
    "\n",
    "#so in this case for sex, female = 1, male = 0\n",
    "#for default, default = 1, not default = 0"
   ]
  },
  {
   "cell_type": "code",
   "execution_count": 9,
   "metadata": {},
   "outputs": [
    {
     "data": {
      "text/html": [
       "<div>\n",
       "<style scoped>\n",
       "    .dataframe tbody tr th:only-of-type {\n",
       "        vertical-align: middle;\n",
       "    }\n",
       "\n",
       "    .dataframe tbody tr th {\n",
       "        vertical-align: top;\n",
       "    }\n",
       "\n",
       "    .dataframe thead th {\n",
       "        text-align: right;\n",
       "    }\n",
       "</style>\n",
       "<table border=\"1\" class=\"dataframe\">\n",
       "  <thead>\n",
       "    <tr style=\"text-align: right;\">\n",
       "      <th></th>\n",
       "      <th>limit_bal</th>\n",
       "      <th>marriage</th>\n",
       "      <th>age</th>\n",
       "      <th>pay_1</th>\n",
       "      <th>pay_2</th>\n",
       "      <th>pay_3</th>\n",
       "      <th>pay_4</th>\n",
       "      <th>pay_5</th>\n",
       "      <th>pay_6</th>\n",
       "      <th>bill_amt1</th>\n",
       "      <th>...</th>\n",
       "      <th>pay_amt3</th>\n",
       "      <th>pay_amt4</th>\n",
       "      <th>pay_amt5</th>\n",
       "      <th>pay_amt6</th>\n",
       "      <th>sex</th>\n",
       "      <th>education_graduate school</th>\n",
       "      <th>education_high school</th>\n",
       "      <th>education_other</th>\n",
       "      <th>education_university</th>\n",
       "      <th>default</th>\n",
       "    </tr>\n",
       "  </thead>\n",
       "  <tbody>\n",
       "    <tr>\n",
       "      <th>0</th>\n",
       "      <td>20000</td>\n",
       "      <td>1</td>\n",
       "      <td>24</td>\n",
       "      <td>2</td>\n",
       "      <td>2</td>\n",
       "      <td>-1</td>\n",
       "      <td>-1</td>\n",
       "      <td>-2</td>\n",
       "      <td>-2</td>\n",
       "      <td>3913</td>\n",
       "      <td>...</td>\n",
       "      <td>0</td>\n",
       "      <td>0</td>\n",
       "      <td>0</td>\n",
       "      <td>0</td>\n",
       "      <td>1</td>\n",
       "      <td>0</td>\n",
       "      <td>0</td>\n",
       "      <td>0</td>\n",
       "      <td>1</td>\n",
       "      <td>1</td>\n",
       "    </tr>\n",
       "    <tr>\n",
       "      <th>1</th>\n",
       "      <td>120000</td>\n",
       "      <td>2</td>\n",
       "      <td>26</td>\n",
       "      <td>-1</td>\n",
       "      <td>2</td>\n",
       "      <td>0</td>\n",
       "      <td>0</td>\n",
       "      <td>0</td>\n",
       "      <td>2</td>\n",
       "      <td>2682</td>\n",
       "      <td>...</td>\n",
       "      <td>1000</td>\n",
       "      <td>1000</td>\n",
       "      <td>0</td>\n",
       "      <td>2000</td>\n",
       "      <td>1</td>\n",
       "      <td>0</td>\n",
       "      <td>0</td>\n",
       "      <td>0</td>\n",
       "      <td>1</td>\n",
       "      <td>1</td>\n",
       "    </tr>\n",
       "    <tr>\n",
       "      <th>2</th>\n",
       "      <td>90000</td>\n",
       "      <td>2</td>\n",
       "      <td>34</td>\n",
       "      <td>0</td>\n",
       "      <td>0</td>\n",
       "      <td>0</td>\n",
       "      <td>0</td>\n",
       "      <td>0</td>\n",
       "      <td>0</td>\n",
       "      <td>29239</td>\n",
       "      <td>...</td>\n",
       "      <td>1000</td>\n",
       "      <td>1000</td>\n",
       "      <td>1000</td>\n",
       "      <td>5000</td>\n",
       "      <td>1</td>\n",
       "      <td>0</td>\n",
       "      <td>0</td>\n",
       "      <td>0</td>\n",
       "      <td>1</td>\n",
       "      <td>0</td>\n",
       "    </tr>\n",
       "    <tr>\n",
       "      <th>3</th>\n",
       "      <td>50000</td>\n",
       "      <td>1</td>\n",
       "      <td>37</td>\n",
       "      <td>0</td>\n",
       "      <td>0</td>\n",
       "      <td>0</td>\n",
       "      <td>0</td>\n",
       "      <td>0</td>\n",
       "      <td>0</td>\n",
       "      <td>46990</td>\n",
       "      <td>...</td>\n",
       "      <td>1200</td>\n",
       "      <td>1100</td>\n",
       "      <td>1069</td>\n",
       "      <td>1000</td>\n",
       "      <td>1</td>\n",
       "      <td>0</td>\n",
       "      <td>0</td>\n",
       "      <td>0</td>\n",
       "      <td>1</td>\n",
       "      <td>0</td>\n",
       "    </tr>\n",
       "    <tr>\n",
       "      <th>4</th>\n",
       "      <td>50000</td>\n",
       "      <td>1</td>\n",
       "      <td>57</td>\n",
       "      <td>-1</td>\n",
       "      <td>0</td>\n",
       "      <td>-1</td>\n",
       "      <td>0</td>\n",
       "      <td>0</td>\n",
       "      <td>0</td>\n",
       "      <td>8617</td>\n",
       "      <td>...</td>\n",
       "      <td>10000</td>\n",
       "      <td>9000</td>\n",
       "      <td>689</td>\n",
       "      <td>679</td>\n",
       "      <td>0</td>\n",
       "      <td>0</td>\n",
       "      <td>0</td>\n",
       "      <td>0</td>\n",
       "      <td>1</td>\n",
       "      <td>0</td>\n",
       "    </tr>\n",
       "  </tbody>\n",
       "</table>\n",
       "<p>5 rows × 27 columns</p>\n",
       "</div>"
      ],
      "text/plain": [
       "   limit_bal  marriage  age  pay_1  pay_2  pay_3  pay_4  pay_5  pay_6  \\\n",
       "0      20000         1   24      2      2     -1     -1     -2     -2   \n",
       "1     120000         2   26     -1      2      0      0      0      2   \n",
       "2      90000         2   34      0      0      0      0      0      0   \n",
       "3      50000         1   37      0      0      0      0      0      0   \n",
       "4      50000         1   57     -1      0     -1      0      0      0   \n",
       "\n",
       "   bill_amt1  ...  pay_amt3  pay_amt4  pay_amt5  pay_amt6  sex  \\\n",
       "0       3913  ...         0         0         0         0    1   \n",
       "1       2682  ...      1000      1000         0      2000    1   \n",
       "2      29239  ...      1000      1000      1000      5000    1   \n",
       "3      46990  ...      1200      1100      1069      1000    1   \n",
       "4       8617  ...     10000      9000       689       679    0   \n",
       "\n",
       "   education_graduate school  education_high school  education_other  \\\n",
       "0                          0                      0                0   \n",
       "1                          0                      0                0   \n",
       "2                          0                      0                0   \n",
       "3                          0                      0                0   \n",
       "4                          0                      0                0   \n",
       "\n",
       "   education_university  default  \n",
       "0                     1        1  \n",
       "1                     1        1  \n",
       "2                     1        0  \n",
       "3                     1        0  \n",
       "4                     1        0  \n",
       "\n",
       "[5 rows x 27 columns]"
      ]
     },
     "execution_count": 9,
     "metadata": {},
     "output_type": "execute_result"
    }
   ],
   "source": [
    "df.head()"
   ]
  },
  {
   "cell_type": "markdown",
   "metadata": {},
   "source": [
    "# Start plotting\n",
    "## Preliminary plotting found in POA of course notes"
   ]
  },
  {
   "cell_type": "code",
   "execution_count": 10,
   "metadata": {
    "scrolled": true
   },
   "outputs": [
    {
     "data": {
      "image/png": "[encoded data removed]",
      "text/plain": [
       "<Figure size 432x288 with 1 Axes>"
      ]
     },
     "metadata": {
      "needs_background": "light"
     },
     "output_type": "display_data"
    }
   ],
   "source": [
    "plt.hist(df['limit_bal'], bins = 10)\n",
    "plt.show()"
   ]
  },
  {
   "cell_type": "code",
   "execution_count": 11,
   "metadata": {},
   "outputs": [
    {
     "data": {
      "image/png": "[encoded data removed]",
      "text/plain": [
       "<Figure size 432x288 with 1 Axes>"
      ]
     },
     "metadata": {
      "needs_background": "light"
     },
     "output_type": "display_data"
    }
   ],
   "source": [
    "plt.plot(df['limit_bal'])\n",
    "plt.show()"
   ]
  },
  {
   "cell_type": "code",
   "execution_count": 12,
   "metadata": {},
   "outputs": [
    {
     "data": {
      "image/png": "[encoded data removed]",
      "text/plain": [
       "<Figure size 432x288 with 1 Axes>"
      ]
     },
     "metadata": {
      "needs_background": "light"
     },
     "output_type": "display_data"
    }
   ],
   "source": [
    "x = df['pay_1']\n",
    "y = df['pay_2']\n",
    "\n",
    "plt.scatter(x,y)\n",
    "plt.show()"
   ]
  },
  {
   "cell_type": "code",
   "execution_count": 13,
   "metadata": {},
   "outputs": [
    {
     "name": "stdout",
     "output_type": "stream",
     "text": [
      "Index(['limit_bal', 'marriage', 'age', 'pay_1', 'pay_2', 'pay_3', 'pay_4',\n",
      "       'pay_5', 'pay_6', 'bill_amt1', 'bill_amt2', 'bill_amt3', 'bill_amt4',\n",
      "       'bill_amt5', 'bill_amt6', 'pay_amt1', 'pay_amt2', 'pay_amt3',\n",
      "       'pay_amt4', 'pay_amt5', 'pay_amt6', 'sex', 'education_graduate school',\n",
      "       'education_high school', 'education_other', 'education_university',\n",
      "       'default'],\n",
      "      dtype='object')\n"
     ]
    }
   ],
   "source": [
    "header = df.dtypes.index\n",
    "print(header)"
   ]
  },
  {
   "cell_type": "code",
   "execution_count": 14,
   "metadata": {},
   "outputs": [
    {
     "data": {
      "image/png": "[encoded data removed]",
      "text/plain": [
       "<Figure size 432x288 with 1 Axes>"
      ]
     },
     "metadata": {
      "needs_background": "light"
     },
     "output_type": "display_data"
    }
   ],
   "source": [
    "A = df['bill_amt1']\n",
    "plt.boxplot(A, 0, 'gD')\n",
    "plt.show()"
   ]
  },
  {
   "cell_type": "markdown",
   "metadata": {},
   "source": [
    "### Correlation"
   ]
  },
  {
   "cell_type": "code",
   "execution_count": 15,
   "metadata": {},
   "outputs": [
    {
     "name": "stdout",
     "output_type": "stream",
     "text": [
      "                           limit_bal  marriage       age     pay_1     pay_2  \\\n",
      "limit_bal                   1.000000 -0.108081  0.144643 -0.271576 -0.296302   \n",
      "marriage                   -0.108081  1.000000 -0.413901  0.019977  0.024181   \n",
      "age                         0.144643 -0.413901  1.000000 -0.039656 -0.050477   \n",
      "pay_1                      -0.271576  0.019977 -0.039656  1.000000  0.673592   \n",
      "pay_2                      -0.296302  0.024181 -0.050477  0.673592  1.000000   \n",
      "pay_3                      -0.286000  0.032641 -0.053312  0.575420  0.765965   \n",
      "pay_4                      -0.267300  0.033074 -0.049970  0.539928  0.661205   \n",
      "pay_5                      -0.249216  0.035585 -0.054078  0.510455  0.621810   \n",
      "pay_6                      -0.234972  0.034298 -0.049004  0.475468  0.574433   \n",
      "bill_amt1                   0.285877 -0.023505  0.056092  0.187314  0.234146   \n",
      "bill_amt2                   0.278753 -0.021633  0.054136  0.190107  0.234524   \n",
      "bill_amt3                   0.283671 -0.024943  0.053566  0.180020  0.223413   \n",
      "bill_amt4                   0.294428 -0.023376  0.051209  0.179357  0.221509   \n",
      "bill_amt5                   0.295999 -0.025426  0.049202  0.180867  0.220633   \n",
      "bill_amt6                   0.290816 -0.021236  0.047470  0.177207  0.218699   \n",
      "pay_amt1                    0.195454 -0.005985  0.026068 -0.079321 -0.081354   \n",
      "pay_amt2                    0.178584 -0.008099  0.021726 -0.070148 -0.059477   \n",
      "pay_amt3                    0.210375 -0.003545  0.029181 -0.070606 -0.056448   \n",
      "pay_amt4                    0.203451 -0.012668  0.021306 -0.064043 -0.047411   \n",
      "pay_amt5                    0.217421 -0.001207  0.022777 -0.058223 -0.037642   \n",
      "pay_amt6                    0.219807 -0.006646  0.019409 -0.058708 -0.037015   \n",
      "sex                         0.025015 -0.031372 -0.091057 -0.057932 -0.070700   \n",
      "education_graduate school   0.258512  0.142187 -0.100403 -0.143442 -0.168412   \n",
      "education_high school      -0.139583 -0.110925  0.231322  0.059228  0.064190   \n",
      "education_other             0.013468 -0.008393  0.008952 -0.024953 -0.033363   \n",
      "education_university       -0.147280 -0.051735 -0.077762  0.099589  0.121905   \n",
      "default                    -0.153871 -0.024019  0.013619  0.324964  0.263656   \n",
      "\n",
      "                              pay_3     pay_4     pay_5     pay_6  bill_amt1  \\\n",
      "limit_bal                 -0.286000 -0.267300 -0.249216 -0.234972   0.285877   \n",
      "marriage                   0.032641  0.033074  0.035585  0.034298  -0.023505   \n",
      "age                       -0.053312 -0.049970 -0.054078 -0.049004   0.056092   \n",
      "pay_1                      0.575420  0.539928  0.510455  0.475468   0.187314   \n",
      "pay_2                      0.765965  0.661205  0.621810  0.574433   0.234146   \n",
      "pay_3                      1.000000  0.776731  0.685882  0.631665   0.207772   \n",
      "pay_4                      0.776731  1.000000  0.819322  0.715663   0.202113   \n",
      "pay_5                      0.685882  0.819322  1.000000  0.816387   0.205998   \n",
      "pay_6                      0.631665  0.715663  0.816387  1.000000   0.206705   \n",
      "bill_amt1                  0.207772  0.202113  0.205998  0.206705   1.000000   \n",
      "bill_amt2                  0.236648  0.225163  0.226268  0.226295   0.951457   \n",
      "bill_amt3                  0.226849  0.244379  0.242734  0.240591   0.892220   \n",
      "bill_amt4                  0.226563  0.245321  0.271370  0.265814   0.860196   \n",
      "bill_amt5                  0.224515  0.242313  0.269246  0.290403   0.829688   \n",
      "bill_amt6                  0.221706  0.238572  0.261974  0.284603   0.802547   \n",
      "pay_amt1                   0.000783 -0.009883 -0.006605 -0.001990   0.140053   \n",
      "pay_amt2                  -0.067276 -0.002328 -0.003577 -0.005600   0.099181   \n",
      "pay_amt3                  -0.053834 -0.069776  0.008636  0.005416   0.156702   \n",
      "pay_amt4                  -0.046596 -0.043981 -0.058842  0.018603   0.158110   \n",
      "pay_amt5                  -0.036387 -0.034104 -0.033852 -0.046950   0.166832   \n",
      "pay_amt6                  -0.036354 -0.027039 -0.023497 -0.025756   0.179166   \n",
      "sex                       -0.065954 -0.060013 -0.054886 -0.043808  -0.033675   \n",
      "education_graduate school -0.159379 -0.151558 -0.137829 -0.124236  -0.023601   \n",
      "education_high school      0.062098  0.058017  0.049197  0.040987  -0.022252   \n",
      "education_other           -0.034675 -0.031230 -0.029052 -0.035964   0.036272   \n",
      "education_university       0.115136  0.109819  0.102678  0.097474   0.030097   \n",
      "default                    0.235230  0.216551  0.204059  0.186740  -0.019758   \n",
      "\n",
      "                           ...  pay_amt3  pay_amt4  pay_amt5  pay_amt6  \\\n",
      "limit_bal                  ...  0.210375  0.203451  0.217421  0.219807   \n",
      "marriage                   ... -0.003545 -0.012668 -0.001207 -0.006646   \n",
      "age                        ...  0.029181  0.021306  0.022777  0.019409   \n",
      "pay_1                      ... -0.070606 -0.064043 -0.058223 -0.058708   \n",
      "pay_2                      ... -0.056448 -0.047411 -0.037642 -0.037015   \n",
      "pay_3                      ... -0.053834 -0.046596 -0.036387 -0.036354   \n",
      "pay_4                      ... -0.069776 -0.043981 -0.034104 -0.027039   \n",
      "pay_5                      ...  0.008636 -0.058842 -0.033852 -0.023497   \n",
      "pay_6                      ...  0.005416  0.018603 -0.046950 -0.025756   \n",
      "bill_amt1                  ...  0.156702  0.158110  0.166832  0.179166   \n",
      "bill_amt2                  ...  0.150532  0.147203  0.157761  0.174080   \n",
      "bill_amt3                  ...  0.129822  0.143211  0.179526  0.182155   \n",
      "bill_amt4                  ...  0.299887  0.129995  0.160242  0.177466   \n",
      "bill_amt5                  ...  0.252156  0.292975  0.141380  0.164011   \n",
      "bill_amt6                  ...  0.233617  0.250082  0.307587  0.115309   \n",
      "pay_amt1                   ...  0.252105  0.199462  0.148356  0.185643   \n",
      "pay_amt2                   ...  0.244705  0.180033  0.180833  0.157562   \n",
      "pay_amt3                   ...  1.000000  0.216244  0.159125  0.162657   \n",
      "pay_amt4                   ...  0.216244  1.000000  0.151738  0.157748   \n",
      "pay_amt5                   ...  0.159125  0.151738  1.000000  0.154807   \n",
      "pay_amt6                   ...  0.162657  0.157748  0.154807  1.000000   \n",
      "sex                        ... -0.008599 -0.002227 -0.001665 -0.002765   \n",
      "education_graduate school  ...  0.056231  0.046367  0.047480  0.050376   \n",
      "education_high school      ... -0.031836 -0.023665 -0.034885 -0.034722   \n",
      "education_other            ...  0.022231  0.001051  0.007350  0.015966   \n",
      "education_university       ... -0.035738 -0.027094 -0.021398 -0.026434   \n",
      "default                    ... -0.056319 -0.056898 -0.055194 -0.053250   \n",
      "\n",
      "                                sex  education_graduate school  \\\n",
      "limit_bal                  0.025015                   0.258512   \n",
      "marriage                  -0.031372                   0.142187   \n",
      "age                       -0.091057                  -0.100403   \n",
      "pay_1                     -0.057932                  -0.143442   \n",
      "pay_2                     -0.070700                  -0.168412   \n",
      "pay_3                     -0.065954                  -0.159379   \n",
      "pay_4                     -0.060013                  -0.151558   \n",
      "pay_5                     -0.054886                  -0.137829   \n",
      "pay_6                     -0.043808                  -0.124236   \n",
      "bill_amt1                 -0.033675                  -0.023601   \n",
      "bill_amt2                 -0.031214                  -0.019888   \n",
      "bill_amt3                 -0.024588                  -0.012667   \n",
      "bill_amt4                 -0.021902                  -0.003358   \n",
      "bill_amt5                 -0.017023                   0.001391   \n",
      "bill_amt6                 -0.016750                  -0.002087   \n",
      "pay_amt1                  -0.000240                   0.050086   \n",
      "pay_amt2                  -0.001390                   0.044611   \n",
      "pay_amt3                  -0.008599                   0.056231   \n",
      "pay_amt4                  -0.002227                   0.046367   \n",
      "pay_amt5                  -0.001665                   0.047480   \n",
      "pay_amt6                  -0.002765                   0.050376   \n",
      "sex                        1.000000                  -0.022890   \n",
      "education_graduate school -0.022890                   1.000000   \n",
      "education_high school     -0.007807                  -0.326835   \n",
      "education_other            0.008502                  -0.092940   \n",
      "education_university       0.025598                  -0.691836   \n",
      "default                   -0.039742                  -0.051351   \n",
      "\n",
      "                           education_high school  education_other  \\\n",
      "limit_bal                              -0.139583         0.013468   \n",
      "marriage                               -0.110925        -0.008393   \n",
      "age                                     0.231322         0.008952   \n",
      "pay_1                                   0.059228        -0.024953   \n",
      "pay_2                                   0.064190        -0.033363   \n",
      "pay_3                                   0.062098        -0.034675   \n",
      "pay_4                                   0.058017        -0.031230   \n",
      "pay_5                                   0.049197        -0.029052   \n",
      "pay_6                                   0.040987        -0.035964   \n",
      "bill_amt1                              -0.022252         0.036272   \n",
      "bill_amt2                              -0.023006         0.030685   \n",
      "bill_amt3                              -0.023047         0.028861   \n",
      "bill_amt4                              -0.031519         0.020861   \n",
      "bill_amt5                              -0.031948         0.011716   \n",
      "bill_amt6                              -0.031217         0.003322   \n",
      "pay_amt1                               -0.021432         0.004396   \n",
      "pay_amt2                               -0.016766         0.011967   \n",
      "pay_amt3                               -0.031836         0.022231   \n",
      "pay_amt4                               -0.023665         0.001051   \n",
      "pay_amt5                               -0.034885         0.007350   \n",
      "pay_amt6                               -0.034722         0.015966   \n",
      "sex                                    -0.007807         0.008502   \n",
      "education_graduate school              -0.326835        -0.092940   \n",
      "education_high school                   1.000000        -0.055795   \n",
      "education_other                        -0.055795         1.000000   \n",
      "education_university                   -0.415327        -0.118105   \n",
      "default                                 0.032462        -0.045744   \n",
      "\n",
      "                           education_university   default  \n",
      "limit_bal                             -0.147280 -0.153871  \n",
      "marriage                              -0.051735 -0.024019  \n",
      "age                                   -0.077762  0.013619  \n",
      "pay_1                                  0.099589  0.324964  \n",
      "pay_2                                  0.121905  0.263656  \n",
      "pay_3                                  0.115136  0.235230  \n",
      "pay_4                                  0.109819  0.216551  \n",
      "pay_5                                  0.102678  0.204059  \n",
      "pay_6                                  0.097474  0.186740  \n",
      "bill_amt1                              0.030097 -0.019758  \n",
      "bill_amt2                              0.028491 -0.014302  \n",
      "bill_amt3                              0.022061 -0.014182  \n",
      "bill_amt4                              0.021423 -0.010259  \n",
      "bill_amt5                              0.019466 -0.006859  \n",
      "bill_amt6                              0.024339 -0.005469  \n",
      "pay_amt1                              -0.033144 -0.073015  \n",
      "pay_amt2                              -0.033246 -0.058643  \n",
      "pay_amt3                              -0.035738 -0.056319  \n",
      "pay_amt4                              -0.027094 -0.056898  \n",
      "pay_amt5                              -0.021398 -0.055194  \n",
      "pay_amt6                              -0.026434 -0.053250  \n",
      "sex                                    0.025598 -0.039742  \n",
      "education_graduate school             -0.691836 -0.051351  \n",
      "education_high school                 -0.415327  0.032462  \n",
      "education_other                       -0.118105 -0.045744  \n",
      "education_university                   1.000000  0.036444  \n",
      "default                                0.036444  1.000000  \n",
      "\n",
      "[27 rows x 27 columns]\n"
     ]
    }
   ],
   "source": [
    "corrMat = df.corr()\n",
    "print(corrMat)"
   ]
  },
  {
   "cell_type": "code",
   "execution_count": 16,
   "metadata": {},
   "outputs": [
    {
     "name": "stdout",
     "output_type": "stream",
     "text": [
      "                              limit_bal     marriage            age  \\\n",
      "limit_bal                  1.683769e+10 -7320.810198  173039.339301   \n",
      "marriage                  -7.320810e+03     0.272481      -1.991909   \n",
      "age                        1.730393e+05    -1.991909      84.998429   \n",
      "pay_1                     -3.959158e+04     0.011715      -0.410761   \n",
      "pay_2                     -4.599635e+04     0.015100      -0.556736   \n",
      "pay_3                     -4.438061e+04     0.020376      -0.587781   \n",
      "pay_4                     -4.051797e+04     0.020168      -0.538177   \n",
      "pay_5                     -3.661409e+04     0.021031      -0.564489   \n",
      "pay_6                     -3.503583e+04     0.020572      -0.519151   \n",
      "bill_amt1                  2.732380e+09  -903.732636   38091.519524   \n",
      "bill_amt2                  2.575221e+09  -803.957896   35534.308472   \n",
      "bill_amt3                  2.553507e+09  -903.212122   34258.762123   \n",
      "bill_amt4                  2.458630e+09  -785.237529   30382.357043   \n",
      "bill_amt5                  2.335917e+09  -807.191357   27587.344198   \n",
      "bill_amt6                  2.248110e+09  -660.387401   26072.712836   \n",
      "pay_amt1                   4.202977e+08   -51.771472    3982.705240   \n",
      "pay_amt2                   5.342208e+08   -97.463852    4617.629754   \n",
      "pay_amt3                   4.808967e+08   -32.598962    4739.452137   \n",
      "pay_amt4                   4.138037e+08  -103.649774    3079.001455   \n",
      "pay_amt5                   4.312685e+08    -9.629304    3209.948117   \n",
      "pay_amt6                   5.073244e+08   -61.710007    3182.740556   \n",
      "sex                        1.587661e+03    -0.008010      -0.410621   \n",
      "education_graduate school  1.602623e+04     0.035460      -0.442245   \n",
      "education_high school     -6.707041e+03    -0.021442       0.789735   \n",
      "education_other            2.166981e+02    -0.000543       0.010233   \n",
      "education_university      -9.535892e+03    -0.013475      -0.357724   \n",
      "default                   -8.288039e+03    -0.005204       0.052121   \n",
      "\n",
      "                                  pay_1         pay_2         pay_3  \\\n",
      "limit_bal                 -39591.580346 -45996.350228 -44380.612847   \n",
      "marriage                       0.011715      0.015100      0.020376   \n",
      "age                           -0.410761     -0.556736     -0.587781   \n",
      "pay_1                          1.262234      0.905347      0.773110   \n",
      "pay_2                          0.905347      1.431186      1.095831   \n",
      "pay_3                          0.773110      1.095831      1.430123   \n",
      "pay_4                          0.708620      0.924043      1.085088   \n",
      "pay_5                          0.649320      0.842242      0.928682   \n",
      "pay_6                          0.613827      0.789662      0.868016   \n",
      "bill_amt1                  15501.081828  20632.667656  18301.789086   \n",
      "bill_amt2                  15206.242487  19975.026106  20148.501247   \n",
      "bill_amt3                  14030.395704  18541.177926  18819.287063   \n",
      "bill_amt4                  12967.649333  17053.403897  17436.063643   \n",
      "bill_amt5                  12358.202505  16052.535682  16328.956154   \n",
      "bill_amt6                  11860.636903  15586.669387  15795.078644   \n",
      "pay_amt1                   -1476.823927  -1612.872767     15.525772   \n",
      "pay_amt2                   -1816.850335  -1640.349134  -1854.743354   \n",
      "pay_amt3                   -1397.427620  -1189.631838  -1134.120938   \n",
      "pay_amt4                   -1127.813878   -889.029317   -873.427594   \n",
      "pay_amt5                    -999.925867   -688.368802   -665.170176   \n",
      "pay_amt6                   -1173.191897   -787.647121   -773.278794   \n",
      "sex                           -0.031836     -0.041371     -0.038579   \n",
      "education_graduate school     -0.076994     -0.096256     -0.091060   \n",
      "education_high school          0.024641      0.028436      0.027499   \n",
      "education_other               -0.003476     -0.004949     -0.005142   \n",
      "education_university           0.055829      0.072769      0.068703   \n",
      "default                        0.151551      0.130930      0.116771   \n",
      "\n",
      "                                  pay_4         pay_5         pay_6  \\\n",
      "limit_bal                 -40517.969802 -36614.092522 -35035.826011   \n",
      "marriage                       0.020168      0.021031      0.020572   \n",
      "age                           -0.538177     -0.564489     -0.519151   \n",
      "pay_1                          0.708620      0.649320      0.613827   \n",
      "pay_2                          0.924043      0.842242      0.789662   \n",
      "pay_3                          1.085088      0.928682      0.868016   \n",
      "pay_4                          1.364633      1.083661      0.960662   \n",
      "pay_5                          1.083661      1.281922      1.062138   \n",
      "pay_6                          0.960662      1.062138      1.320408   \n",
      "bill_amt1                  17390.964829  17179.614988  17495.516947   \n",
      "bill_amt2                  18726.519019  18239.216768  18513.204908   \n",
      "bill_amt3                  19803.926492  19065.222092  19178.476975   \n",
      "bill_amt4                  18442.304433  19772.652972  19656.397981   \n",
      "bill_amt5                  17215.150834  18539.871926  20294.617880   \n",
      "bill_amt6                  16602.982698  17670.392349  19482.824006   \n",
      "pay_amt1                    -191.324572   -123.935216    -37.891458   \n",
      "pay_amt2                     -62.686435    -93.378031   -148.347313   \n",
      "pay_amt3                   -1435.922248    172.244885    109.630299   \n",
      "pay_amt4                    -805.319901  -1044.272629    335.060312   \n",
      "pay_amt5                    -609.000179   -585.891737   -824.704843   \n",
      "pay_amt6                    -561.816814   -473.195693   -526.432176   \n",
      "sex                           -0.034291     -0.030396     -0.024622   \n",
      "education_graduate school     -0.084586     -0.074556     -0.068204   \n",
      "education_high school          0.025097      0.020627      0.017440   \n",
      "education_other               -0.004524     -0.004079     -0.005124   \n",
      "education_university           0.064012      0.058008      0.055888   \n",
      "default                        0.105008      0.095905      0.089073   \n",
      "\n",
      "                              bill_amt1  ...      pay_amt3      pay_amt4  \\\n",
      "limit_bal                  2.732380e+09  ...  4.808967e+08  4.138037e+08   \n",
      "marriage                  -9.037326e+02  ... -3.259896e+01 -1.036498e+02   \n",
      "age                        3.809152e+04  ...  4.739452e+03  3.079001e+03   \n",
      "pay_1                      1.550108e+04  ... -1.397428e+03 -1.127814e+03   \n",
      "pay_2                      2.063267e+04  ... -1.189632e+03 -8.890293e+02   \n",
      "pay_3                      1.830179e+04  ... -1.134121e+03 -8.734276e+02   \n",
      "pay_4                      1.739096e+04  ... -1.435922e+03 -8.053199e+02   \n",
      "pay_5                      1.717961e+04  ...  1.722449e+02 -1.044273e+03   \n",
      "pay_6                      1.749552e+04  ...  1.096303e+02  3.350603e+02   \n",
      "bill_amt1                  5.425520e+09  ...  2.033350e+08  1.825462e+08   \n",
      "bill_amt2                  4.989564e+09  ...  1.887986e+08  1.642716e+08   \n",
      "bill_amt3                  4.559032e+09  ...  1.586512e+08  1.557221e+08   \n",
      "bill_amt4                  4.077469e+09  ...  3.399748e+08  1.311272e+08   \n",
      "bill_amt5                  3.716733e+09  ...  2.701543e+08  2.792861e+08   \n",
      "bill_amt6                  3.521673e+09  ...  2.451765e+08  2.335247e+08   \n",
      "pay_amt1                   1.709557e+08  ...  7.359851e+07  5.181133e+07   \n",
      "pay_amt2                   1.684171e+08  ...  9.937919e+07  6.505515e+07   \n",
      "pay_amt3                   2.033350e+08  ...  3.103362e+08  5.971078e+07   \n",
      "pay_amt4                   1.825462e+08  ...  5.971078e+07  2.456888e+08   \n",
      "pay_amt5                   1.878467e+08  ...  4.285078e+07  3.635717e+07   \n",
      "pay_amt6                   2.347356e+08  ...  5.096734e+07  4.398026e+07   \n",
      "sex                       -1.213255e+03  ... -7.409891e+01 -1.707594e+01   \n",
      "education_graduate school -8.305245e+02  ...  4.732616e+02  3.472264e+02   \n",
      "education_high school     -6.069426e+02  ... -2.076783e+02 -1.373611e+02   \n",
      "education_other            3.312850e+02  ...  4.855973e+01  2.042319e+00   \n",
      "education_university       1.106182e+03  ... -3.141430e+02 -2.119076e+02   \n",
      "default                   -6.040984e+02  ... -4.118393e+02 -3.702071e+02   \n",
      "\n",
      "                               pay_amt5      pay_amt6          sex  \\\n",
      "limit_bal                  4.312685e+08  5.073244e+08  1587.661442   \n",
      "marriage                  -9.629304e+00 -6.171001e+01    -0.008010   \n",
      "age                        3.209948e+03  3.182741e+03    -0.410621   \n",
      "pay_1                     -9.999259e+02 -1.173192e+03    -0.031836   \n",
      "pay_2                     -6.883688e+02 -7.876471e+02    -0.041371   \n",
      "pay_3                     -6.651702e+02 -7.732788e+02    -0.038579   \n",
      "pay_4                     -6.090002e+02 -5.618168e+02    -0.034291   \n",
      "pay_5                     -5.858917e+02 -4.731957e+02    -0.030396   \n",
      "pay_6                     -8.247048e+02 -5.264322e+02    -0.024622   \n",
      "bill_amt1                  1.878467e+08  2.347356e+08 -1213.254869   \n",
      "bill_amt2                  1.716952e+08  2.204475e+08 -1086.999787   \n",
      "bill_amt3                  1.903764e+08  2.247628e+08  -834.307489   \n",
      "bill_amt4                  1.576353e+08  2.031373e+08  -689.404217   \n",
      "bill_amt5                  1.314370e+08  1.774197e+08  -506.382574   \n",
      "bill_amt6                  2.801114e+08  1.221863e+08  -488.090781   \n",
      "pay_amt1                   3.758195e+07  5.472063e+07    -1.946093   \n",
      "pay_amt2                   6.372623e+07  6.460844e+07   -15.674467   \n",
      "pay_amt3                   4.285078e+07  5.096734e+07   -74.098910   \n",
      "pay_amt4                   3.635717e+07  4.398026e+07   -17.075936   \n",
      "pay_amt5                   2.336732e+08  4.209185e+07   -12.449121   \n",
      "pay_amt6                   4.209185e+07  3.163765e+08   -24.057555   \n",
      "sex                       -1.244912e+01 -2.405755e+01     0.239246   \n",
      "education_graduate school  3.467536e+02  4.280937e+02    -0.005349   \n",
      "education_high school     -1.974682e+02 -2.287026e+02    -0.001414   \n",
      "education_other            1.393076e+01  3.521399e+01     0.000516   \n",
      "education_university      -1.632161e+02 -2.346051e+02     0.006248   \n",
      "default                   -3.502289e+02 -3.931670e+02    -0.008069   \n",
      "\n",
      "                           education_graduate school  education_high school  \\\n",
      "limit_bal                               16026.234853           -6707.040936   \n",
      "marriage                                    0.035460              -0.021442   \n",
      "age                                        -0.442245               0.789735   \n",
      "pay_1                                      -0.076994               0.024641   \n",
      "pay_2                                      -0.096256               0.028436   \n",
      "pay_3                                      -0.091060               0.027499   \n",
      "pay_4                                      -0.084586               0.025097   \n",
      "pay_5                                      -0.074556               0.020627   \n",
      "pay_6                                      -0.068204               0.017440   \n",
      "bill_amt1                                -830.524506            -606.942566   \n",
      "bill_amt2                                -676.485488            -606.521704   \n",
      "bill_amt3                                -419.833047            -592.050810   \n",
      "bill_amt4                                -103.258529            -751.105907   \n",
      "bill_amt5                                  40.404079            -719.487603   \n",
      "bill_amt6                                 -59.387122            -688.659737   \n",
      "pay_amt1                                  396.551292            -131.519561   \n",
      "pay_amt2                                  491.344602            -143.124861   \n",
      "pay_amt3                                  473.261608            -207.678335   \n",
      "pay_amt4                                  347.226400            -137.361093   \n",
      "pay_amt5                                  346.753554            -197.468161   \n",
      "pay_amt6                                  428.093695            -228.702601   \n",
      "sex                                        -0.005349              -0.001414   \n",
      "education_graduate school                   0.228255              -0.057822   \n",
      "education_high school                      -0.057822               0.137125   \n",
      "education_other                            -0.005506              -0.002562   \n",
      "education_university                       -0.164926              -0.076741   \n",
      "default                                    -0.010184               0.004990   \n",
      "\n",
      "                           education_other  education_university      default  \n",
      "limit_bal                       216.698093          -9535.892010 -8288.039420  \n",
      "marriage                         -0.000543             -0.013475    -0.005204  \n",
      "age                               0.010233             -0.357724     0.052121  \n",
      "pay_1                            -0.003476              0.055829     0.151551  \n",
      "pay_2                            -0.004949              0.072769     0.130930  \n",
      "pay_3                            -0.005142              0.068703     0.116771  \n",
      "pay_4                            -0.004524              0.064012     0.105008  \n",
      "pay_5                            -0.004079              0.058008     0.095905  \n",
      "pay_6                            -0.005124              0.055888     0.089073  \n",
      "bill_amt1                       331.285023           1106.182049  -604.098379  \n",
      "bill_amt2                       270.884647           1012.122545  -422.662880  \n",
      "bill_amt3                       248.250076            763.633782  -408.384846  \n",
      "bill_amt4                       166.461641            687.902795  -274.056305  \n",
      "bill_amt5                        88.354442            590.729081  -173.164564  \n",
      "bill_amt6                        24.542393            723.504466  -135.235463  \n",
      "pay_amt1                          9.032523           -274.064254  -502.268504  \n",
      "pay_amt2                         34.208346           -382.428087  -561.188409  \n",
      "pay_amt3                         48.559726           -314.142998  -411.839273  \n",
      "pay_amt4                          2.042319           -211.907625  -370.207072  \n",
      "pay_amt5                         13.930756           -163.216149  -350.228855  \n",
      "pay_amt6                         35.213988           -234.605082  -393.167028  \n",
      "sex                               0.000516              0.006248    -0.008069  \n",
      "education_graduate school        -0.005506             -0.164926    -0.010184  \n",
      "education_high school            -0.002562             -0.076741     0.004990  \n",
      "education_other                   0.015375             -0.007307    -0.002354  \n",
      "education_university             -0.007307              0.248974     0.007548  \n",
      "default                          -0.002354              0.007548     0.172309  \n",
      "\n",
      "[27 rows x 27 columns]\n"
     ]
    }
   ],
   "source": [
    "covMat = df.cov()\n",
    "print(covMat)"
   ]
  },
  {
   "cell_type": "markdown",
   "metadata": {},
   "source": [
    "# Pandas Profiling"
   ]
  },
  {
   "cell_type": "code",
   "execution_count": 17,
   "metadata": {},
   "outputs": [],
   "source": [
    "import pandas_profiling"
   ]
  },
  {
   "cell_type": "code",
   "execution_count": 18,
   "metadata": {},
   "outputs": [],
   "source": [
    "#pandas_profiling.ProfileReport(df)"
   ]
  },
  {
   "cell_type": "markdown",
   "metadata": {},
   "source": [
    "## Takeaway notes from pandas profiling\n",
    "<br>\n",
    "-Total observations = 29965 <br>\n",
    "-Limit bal minimum = 10,000  ; maximum = 1,000,000 <br>\n",
    "-Marriage = most clients are single (15,945), then married (13,643), followed by divorced (323), then other (54) <br>\n",
    "-Age = avg of 35 yrs ; range = 21-79 ; highest conc bt 20 and 40 <br>\n",
    "-Pay = max months behind pay is 8 months ; most clients use revolving credit <br>\n",
    "-Bill amt = amounts are quite large, avg around 40k - 50k for each month; some large negative numbers also <br> (what does this mean? ; also, lots of zero bill amounts, will this make analysis difficult?) <br>\n",
    "-Pay amt = avg around 5k, max payment is ~1 mill <br>\n",
    "-Sex = mostly female (18,091), male (11,874) <br>\n",
    "-Education = mostly university (14,019), grad school (10,563), high school (4915), other (468) <br>\n",
    "-Default = 6630, ~22% <br>\n"
   ]
  },
  {
   "cell_type": "markdown",
   "metadata": {},
   "source": [
    "# Comparing features to default"
   ]
  },
  {
   "cell_type": "code",
   "execution_count": 19,
   "metadata": {},
   "outputs": [
    {
     "data": {
      "text/plain": [
       "0    23335\n",
       "1     6630\n",
       "Name: default, dtype: int64"
      ]
     },
     "execution_count": 19,
     "metadata": {},
     "output_type": "execute_result"
    }
   ],
   "source": [
    "#check value counts for default loans\n",
    "\n",
    "df['default'].value_counts()"
   ]
  },
  {
   "cell_type": "code",
   "execution_count": 20,
   "metadata": {},
   "outputs": [
    {
     "data": {
      "text/plain": [
       "0.22125813449023862"
      ]
     },
     "execution_count": 20,
     "metadata": {},
     "output_type": "execute_result"
    }
   ],
   "source": [
    "#currently, about 22% of customers have defaulted on loans\n",
    "\n",
    "6630/29965"
   ]
  },
  {
   "cell_type": "markdown",
   "metadata": {},
   "source": [
    "## Limit Bal vs Default"
   ]
  },
  {
   "cell_type": "code",
   "execution_count": 21,
   "metadata": {},
   "outputs": [
    {
     "data": {
      "image/png": "[encoded data removed]",
      "text/plain": [
       "<Figure size 360x360 with 1 Axes>"
      ]
     },
     "metadata": {
      "needs_background": "light"
     },
     "output_type": "display_data"
    }
   ],
   "source": [
    "#average limit bal for default vs not default\n",
    "#average balance is higher for not default (this is likely not a good predictor in this format)\n",
    "\n",
    "lim_v_default = sn.catplot(x = 'default', y = 'limit_bal', data = df, kind = 'bar')"
   ]
  },
  {
   "cell_type": "code",
   "execution_count": 22,
   "metadata": {},
   "outputs": [
    {
     "data": {
      "image/png": "[encoded data removed]",
      "text/plain": [
       "<Figure size 432x288 with 1 Axes>"
      ]
     },
     "metadata": {
      "needs_background": "light"
     },
     "output_type": "display_data"
    }
   ],
   "source": [
    "x = df['limit_bal']\n",
    "y = df['default']\n",
    "\n",
    "plt.scatter(x, y, marker = 'o')\n",
    "plt.show()"
   ]
  },
  {
   "cell_type": "code",
   "execution_count": 23,
   "metadata": {},
   "outputs": [
    {
     "data": {
      "text/plain": [
       "<seaborn.axisgrid.FacetGrid at 0x7f8ad4c4a700>"
      ]
     },
     "execution_count": 23,
     "metadata": {},
     "output_type": "execute_result"
    },
    {
     "data": {
      "image/png": "[encoded data removed]",
      "text/plain": [
       "<Figure size 360x360 with 1 Axes>"
      ]
     },
     "metadata": {
      "needs_background": "light"
     },
     "output_type": "display_data"
    }
   ],
   "source": [
    "sn.lmplot(x = 'limit_bal', y = 'default', data = df)"
   ]
  },
  {
   "cell_type": "code",
   "execution_count": 24,
   "metadata": {},
   "outputs": [
    {
     "data": {
      "text/plain": [
       "<AxesSubplot:xlabel='default', ylabel='limit_bal'>"
      ]
     },
     "execution_count": 24,
     "metadata": {},
     "output_type": "execute_result"
    },
    {
     "data": {
      "image/png": "[encoded data removed]",
      "text/plain": [
       "<Figure size 432x288 with 1 Axes>"
      ]
     },
     "metadata": {
      "needs_background": "light"
     },
     "output_type": "display_data"
    }
   ],
   "source": [
    "sn.violinplot(x = 'default', y = 'limit_bal', data = df)"
   ]
  },
  {
   "cell_type": "markdown",
   "metadata": {},
   "source": [
    "## Sex vs Default"
   ]
  },
  {
   "cell_type": "code",
   "execution_count": 25,
   "metadata": {},
   "outputs": [
    {
     "data": {
      "text/plain": [
       "<matplotlib.legend.Legend at 0x7f8ad1cdbd30>"
      ]
     },
     "execution_count": 25,
     "metadata": {},
     "output_type": "execute_result"
    },
    {
     "data": {
      "image/png": "[encoded data removed]",
      "text/plain": [
       "<Figure size 360x360 with 1 Axes>"
      ]
     },
     "metadata": {
      "needs_background": "light"
     },
     "output_type": "display_data"
    }
   ],
   "source": [
    "sex_v_default = sn.catplot(x = 'default', data = df, hue = 'sex', kind = 'count', legend = False)\n",
    "sex_v_default.set(xticklabels = ['No default','Default'])\n",
    "plt.legend(title='Sex', labels=['Male','Female'])\n",
    "\n",
    "#there are more females than males in general, so this appears to correlate with that fact"
   ]
  },
  {
   "cell_type": "code",
   "execution_count": 26,
   "metadata": {},
   "outputs": [
    {
     "name": "stdout",
     "output_type": "stream",
     "text": [
      "sex  default\n",
      "0    0           9005\n",
      "     1           2869\n",
      "1    0          14330\n",
      "     1           3761\n",
      "Name: default, dtype: int64\n"
     ]
    }
   ],
   "source": [
    "#calculate percentage\n",
    "\n",
    "percent = df.groupby(['sex', 'default'])['default'].count()\n",
    "print(percent)"
   ]
  },
  {
   "cell_type": "code",
   "execution_count": 27,
   "metadata": {},
   "outputs": [
    {
     "data": {
      "text/plain": [
       "sex  default\n",
       "0    0          75.837965\n",
       "     1          24.162035\n",
       "1    0          79.210657\n",
       "     1          20.789343\n",
       "dtype: float64"
      ]
     },
     "execution_count": 27,
     "metadata": {},
     "output_type": "execute_result"
    }
   ],
   "source": [
    "percent/df.groupby('sex')['sex'].count()*100"
   ]
  },
  {
   "cell_type": "markdown",
   "metadata": {},
   "source": [
    "### Notes\n",
    "<br>\n",
    "Males default at rate of 20.8% <br>\n",
    "Females default at rate of 24.2%"
   ]
  },
  {
   "cell_type": "markdown",
   "metadata": {},
   "source": [
    "## Education vs Default"
   ]
  },
  {
   "cell_type": "code",
   "execution_count": 28,
   "metadata": {},
   "outputs": [
    {
     "data": {
      "text/plain": [
       "<seaborn.axisgrid.FacetGrid at 0x7f8ad0180c40>"
      ]
     },
     "execution_count": 28,
     "metadata": {},
     "output_type": "execute_result"
    },
    {
     "data": {
      "image/png": "[encoded data removed]",
      "text/plain": [
       "<Figure size 403.375x360 with 1 Axes>"
      ]
     },
     "metadata": {
      "needs_background": "light"
     },
     "output_type": "display_data"
    }
   ],
   "source": [
    "sn.catplot(x = 'education_graduate school', data = df, hue = 'default', kind ='count')"
   ]
  },
  {
   "cell_type": "code",
   "execution_count": 29,
   "metadata": {},
   "outputs": [
    {
     "name": "stdout",
     "output_type": "stream",
     "text": [
      "sex  default\n",
      "0    0           9005\n",
      "     1           2869\n",
      "1    0          14330\n",
      "     1           3761\n",
      "Name: default, dtype: int64\n"
     ]
    }
   ],
   "source": [
    "percent2 = df.groupby(['education_graduate school', 'default'])['default'].count()\n",
    "print(percent)"
   ]
  },
  {
   "cell_type": "code",
   "execution_count": 30,
   "metadata": {},
   "outputs": [
    {
     "data": {
      "text/plain": [
       "education_graduate school  default\n",
       "0                          0          76.301412\n",
       "                           1          23.698588\n",
       "1                          0          80.763041\n",
       "                           1          19.236959\n",
       "dtype: float64"
      ]
     },
     "execution_count": 30,
     "metadata": {},
     "output_type": "execute_result"
    }
   ],
   "source": [
    "percent2/df.groupby('education_graduate school')['education_graduate school'].count()*100"
   ]
  },
  {
   "cell_type": "code",
   "execution_count": 31,
   "metadata": {},
   "outputs": [
    {
     "data": {
      "text/plain": [
       "<seaborn.axisgrid.FacetGrid at 0x7f8ab5c25e50>"
      ]
     },
     "execution_count": 31,
     "metadata": {},
     "output_type": "execute_result"
    },
    {
     "data": {
      "image/png": "[encoded data removed]",
      "text/plain": [
       "<Figure size 403.375x360 with 1 Axes>"
      ]
     },
     "metadata": {
      "needs_background": "light"
     },
     "output_type": "display_data"
    }
   ],
   "source": [
    "sn.catplot(x = 'education_high school', data = df, hue = 'default', kind = 'count')"
   ]
  },
  {
   "cell_type": "code",
   "execution_count": 32,
   "metadata": {},
   "outputs": [
    {
     "data": {
      "text/plain": [
       "education_high school  default\n",
       "0                      0          78.471058\n",
       "                       1          21.528942\n",
       "1                      0          74.832146\n",
       "                       1          25.167854\n",
       "dtype: float64"
      ]
     },
     "execution_count": 32,
     "metadata": {},
     "output_type": "execute_result"
    }
   ],
   "source": [
    "percent3 = df.groupby(['education_high school', 'default'])['default'].count()\n",
    "percent3/df.groupby('education_high school')['education_high school'].count()*100"
   ]
  },
  {
   "cell_type": "code",
   "execution_count": 33,
   "metadata": {},
   "outputs": [
    {
     "data": {
      "text/plain": [
       "<seaborn.axisgrid.FacetGrid at 0x7f8ad4cd6a90>"
      ]
     },
     "execution_count": 33,
     "metadata": {},
     "output_type": "execute_result"
    },
    {
     "data": {
      "image/png": "[encoded data removed]",
      "text/plain": [
       "<Figure size 403.375x360 with 1 Axes>"
      ]
     },
     "metadata": {
      "needs_background": "light"
     },
     "output_type": "display_data"
    }
   ],
   "source": [
    "sn.catplot(x = 'education_university', data = df, hue = 'default', kind = 'count')\n",
    "\n",
    "#this is interesting because default rate is the same whether or not you are university educated...\n",
    "#for all others default rate was less...\n",
    "#not sure what this means"
   ]
  },
  {
   "cell_type": "code",
   "execution_count": 34,
   "metadata": {},
   "outputs": [
    {
     "data": {
      "text/plain": [
       "education_university  default\n",
       "0                     0          79.292613\n",
       "                      1          20.707387\n",
       "1                     0          76.260789\n",
       "                      1          23.739211\n",
       "dtype: float64"
      ]
     },
     "execution_count": 34,
     "metadata": {},
     "output_type": "execute_result"
    }
   ],
   "source": [
    "percent4 = df.groupby(['education_university', 'default'])['default'].count()\n",
    "percent4/df.groupby('education_university')['education_university'].count()*100"
   ]
  },
  {
   "cell_type": "code",
   "execution_count": 35,
   "metadata": {},
   "outputs": [
    {
     "data": {
      "text/plain": [
       "<seaborn.axisgrid.FacetGrid at 0x7f8ab5c20fd0>"
      ]
     },
     "execution_count": 35,
     "metadata": {},
     "output_type": "execute_result"
    },
    {
     "data": {
      "image/png": "[encoded data removed]",
      "text/plain": [
       "<Figure size 403.375x360 with 1 Axes>"
      ]
     },
     "metadata": {
      "needs_background": "light"
     },
     "output_type": "display_data"
    }
   ],
   "source": [
    "sn.catplot(x = 'education_other', data = df, hue = 'default', kind = 'count')"
   ]
  },
  {
   "cell_type": "markdown",
   "metadata": {},
   "source": [
    "### Notes\n",
    "<br>\n",
    "Graduate school has a default rate of 19%. <br>\n",
    "University has a default rate of 24%. <br>\n",
    "High school has a default rate of 25%. <br>"
   ]
  },
  {
   "cell_type": "markdown",
   "metadata": {},
   "source": [
    "## Marital status vs Default"
   ]
  },
  {
   "cell_type": "code",
   "execution_count": 36,
   "metadata": {},
   "outputs": [
    {
     "data": {
      "text/plain": [
       "<seaborn.axisgrid.FacetGrid at 0x7f8ab630fa60>"
      ]
     },
     "execution_count": 36,
     "metadata": {},
     "output_type": "execute_result"
    },
    {
     "data": {
      "image/png": "[encoded data removed]",
      "text/plain": [
       "<Figure size 403.375x360 with 1 Axes>"
      ]
     },
     "metadata": {
      "needs_background": "light"
     },
     "output_type": "display_data"
    }
   ],
   "source": [
    "sn.catplot(x = 'marriage', data = df, hue = 'default', kind = 'count')"
   ]
  },
  {
   "cell_type": "markdown",
   "metadata": {},
   "source": [
    "## Age vs Default"
   ]
  },
  {
   "cell_type": "code",
   "execution_count": 37,
   "metadata": {},
   "outputs": [
    {
     "data": {
      "image/png": "[encoded data removed]",
      "text/plain": [
       "<Figure size 432x288 with 1 Axes>"
      ]
     },
     "metadata": {
      "needs_background": "light"
     },
     "output_type": "display_data"
    }
   ],
   "source": [
    "x = df['age']\n",
    "y = df['default']\n",
    "\n",
    "plt.scatter(x, y)\n",
    "plt.show()"
   ]
  },
  {
   "cell_type": "code",
   "execution_count": 38,
   "metadata": {},
   "outputs": [
    {
     "data": {
      "text/plain": [
       "<seaborn.axisgrid.FacetGrid at 0x7f8ab6b6a1c0>"
      ]
     },
     "execution_count": 38,
     "metadata": {},
     "output_type": "execute_result"
    },
    {
     "data": {
      "image/png": "[encoded data removed]",
      "text/plain": [
       "<Figure size 360x360 with 1 Axes>"
      ]
     },
     "metadata": {
      "needs_background": "light"
     },
     "output_type": "display_data"
    }
   ],
   "source": [
    "sn.lmplot(x = 'age', y = 'default', data = df)"
   ]
  },
  {
   "cell_type": "markdown",
   "metadata": {},
   "source": [
    "## Payment Status vs Default"
   ]
  },
  {
   "cell_type": "code",
   "execution_count": 39,
   "metadata": {
    "scrolled": true
   },
   "outputs": [
    {
     "data": {
      "text/plain": [
       "<seaborn.axisgrid.FacetGrid at 0x7f8ab6fc8850>"
      ]
     },
     "execution_count": 39,
     "metadata": {},
     "output_type": "execute_result"
    },
    {
     "data": {
      "image/png": "[encoded data removed]",
      "text/plain": [
       "<Figure size 403.375x360 with 1 Axes>"
      ]
     },
     "metadata": {
      "needs_background": "light"
     },
     "output_type": "display_data"
    }
   ],
   "source": [
    "sn.catplot(x = 'pay_1', data = df, hue = 'default', kind = 'count')"
   ]
  },
  {
   "cell_type": "code",
   "execution_count": 40,
   "metadata": {},
   "outputs": [
    {
     "data": {
      "text/plain": [
       "<seaborn.axisgrid.FacetGrid at 0x7f8ab7aaeca0>"
      ]
     },
     "execution_count": 40,
     "metadata": {},
     "output_type": "execute_result"
    },
    {
     "data": {
      "image/png": "[encoded data removed]",
      "text/plain": [
       "<Figure size 403.375x360 with 1 Axes>"
      ]
     },
     "metadata": {
      "needs_background": "light"
     },
     "output_type": "display_data"
    }
   ],
   "source": [
    "sn.catplot(x = 'pay_6', data = df, hue = 'default', kind = 'count')\n",
    "\n",
    "#as clients hit the 2 month behind point, more tend to default than not.. what makes them 2 months behind?\n",
    "#how do I look at 2 months behind across all pay months at the same time?\n",
    "#also a significant number of clients default who are using revolving credit... \n",
    "#at what number are these people defaulting?"
   ]
  },
  {
   "cell_type": "code",
   "execution_count": 41,
   "metadata": {},
   "outputs": [],
   "source": [
    "#trying to find the limit balance for people who are behind 2 months\n",
    "#loc data for pay_1 that = 2 (2 months behind)\n",
    "\n",
    "pay1_2mo = df.loc[df['pay_1'] == 2, :]"
   ]
  },
  {
   "cell_type": "code",
   "execution_count": 42,
   "metadata": {},
   "outputs": [],
   "source": [
    "#then take that and find limit bal\n",
    "\n",
    "pay1_lim_2mo = pay1_2mo['limit_bal']"
   ]
  },
  {
   "cell_type": "code",
   "execution_count": 43,
   "metadata": {},
   "outputs": [
    {
     "data": {
      "text/plain": [
       "111528.88222055514"
      ]
     },
     "execution_count": 43,
     "metadata": {},
     "output_type": "execute_result"
    }
   ],
   "source": [
    "pay1_lim_2mo.mean()"
   ]
  },
  {
   "cell_type": "code",
   "execution_count": 44,
   "metadata": {},
   "outputs": [
    {
     "data": {
      "text/plain": [
       "Text(0.5, 0, 'Limit Balance')"
      ]
     },
     "execution_count": 44,
     "metadata": {},
     "output_type": "execute_result"
    },
    {
     "data": {
      "image/png": "[encoded data removed]",
      "text/plain": [
       "<Figure size 432x288 with 1 Axes>"
      ]
     },
     "metadata": {
      "needs_background": "light"
     },
     "output_type": "display_data"
    }
   ],
   "source": [
    "#histogram showing the distribution of the limit balance for customers who, \n",
    "#during pay period 1, were 2 months behind on payment\n",
    "#results are similar across all pay periods\n",
    "\n",
    "plt.hist(x = pay1_lim_2mo, bins = 20)\n",
    "plt.xlabel('Limit Balance')"
   ]
  },
  {
   "cell_type": "code",
   "execution_count": 45,
   "metadata": {},
   "outputs": [],
   "source": [
    "#now trying to find limit balance for people who paid in full\n",
    "\n",
    "pay1_paid = df.loc[df['pay_1'] == -1, :]"
   ]
  },
  {
   "cell_type": "code",
   "execution_count": 46,
   "metadata": {},
   "outputs": [],
   "source": [
    "pay1_lim_paid = pay1_paid['limit_bal']"
   ]
  },
  {
   "cell_type": "code",
   "execution_count": 47,
   "metadata": {},
   "outputs": [
    {
     "data": {
      "text/plain": [
       "206777.5431186202"
      ]
     },
     "execution_count": 47,
     "metadata": {},
     "output_type": "execute_result"
    }
   ],
   "source": [
    "pay1_lim_paid.mean()\n"
   ]
  },
  {
   "cell_type": "code",
   "execution_count": 48,
   "metadata": {
    "scrolled": true
   },
   "outputs": [
    {
     "data": {
      "text/plain": [
       "Text(0.5, 0, 'Limit Balance')"
      ]
     },
     "execution_count": 48,
     "metadata": {},
     "output_type": "execute_result"
    },
    {
     "data": {
      "image/png": "[encoded data removed]",
      "text/plain": [
       "<Figure size 432x288 with 1 Axes>"
      ]
     },
     "metadata": {
      "needs_background": "light"
     },
     "output_type": "display_data"
    }
   ],
   "source": [
    "#distribution of limit balance for people who paid in full\n",
    "#distribution is different from people who are 2 months behind\n",
    "\n",
    "plt.hist(x = pay1_lim_paid, bins = 20)\n",
    "plt.xlabel('Limit Balance')"
   ]
  },
  {
   "cell_type": "code",
   "execution_count": 49,
   "metadata": {},
   "outputs": [
    {
     "data": {
      "text/plain": [
       "(array([4.205e+03, 2.721e+03, 2.076e+03, 1.643e+03, 1.240e+03, 9.220e+02,\n",
       "        5.760e+02, 5.510e+02, 2.380e+02, 4.490e+02, 4.100e+01, 2.500e+01,\n",
       "        2.400e+01, 1.400e+01, 9.000e+00, 2.000e+00, 0.000e+00, 0.000e+00,\n",
       "        0.000e+00, 1.000e+00]),\n",
       " array([  10000.,   59500.,  109000.,  158500.,  208000.,  257500.,\n",
       "         307000.,  356500.,  406000.,  455500.,  505000.,  554500.,\n",
       "         604000.,  653500.,  703000.,  752500.,  802000.,  851500.,\n",
       "         901000.,  950500., 1000000.]),\n",
       " <BarContainer object of 20 artists>)"
      ]
     },
     "execution_count": 49,
     "metadata": {},
     "output_type": "execute_result"
    },
    {
     "data": {
      "image/png": "[encoded data removed]",
      "text/plain": [
       "<Figure size 432x288 with 1 Axes>"
      ]
     },
     "metadata": {
      "needs_background": "light"
     },
     "output_type": "display_data"
    }
   ],
   "source": [
    "#limit balance for use of revolving credit\n",
    "\n",
    "pay1_credit = df.loc[df['pay_1'] == 0, :]\n",
    "pay1_lim_credit = pay1_credit['limit_bal']\n",
    "\n",
    "plt.hist(x = pay1_lim_credit, bins = 20)"
   ]
  },
  {
   "cell_type": "code",
   "execution_count": 50,
   "metadata": {},
   "outputs": [
    {
     "data": {
      "text/plain": [
       "Text(0.5, 0, 'Limit Balance')"
      ]
     },
     "execution_count": 50,
     "metadata": {},
     "output_type": "execute_result"
    },
    {
     "data": {
      "image/png": "[encoded data removed]",
      "text/plain": [
       "<Figure size 432x288 with 1 Axes>"
      ]
     },
     "metadata": {
      "needs_background": "light"
     },
     "output_type": "display_data"
    }
   ],
   "source": [
    "#limit balance for everyone who defaulted\n",
    "\n",
    "did_default = df.loc[df['default'] == 1, :]\n",
    "default_bal = did_default['limit_bal']\n",
    "plt.hist(x = default_bal, bins = 20)\n",
    "plt.xlabel('Limit Balance')"
   ]
  },
  {
   "cell_type": "markdown",
   "metadata": {},
   "source": [
    "### Notes\n",
    "<br>\n",
    "People who are 2 months behind tend to have lower limit balances (as do people with revolving credit) <br>\n",
    "Whereas people who pay in full had more people with a higher balance. <br>\n",
    "Do we need to see people's income to get a better sense of what this means? <br>\n",
    "Debt to income ratio?"
   ]
  },
  {
   "cell_type": "markdown",
   "metadata": {},
   "source": [
    "## Bill Amount vs Default"
   ]
  },
  {
   "cell_type": "code",
   "execution_count": 51,
   "metadata": {},
   "outputs": [
    {
     "data": {
      "image/png": "[encoded data removed]",
      "text/plain": [
       "<Figure size 432x288 with 1 Axes>"
      ]
     },
     "metadata": {
      "needs_background": "light"
     },
     "output_type": "display_data"
    }
   ],
   "source": [
    "sample = df.sample(100)\n",
    "\n",
    "x = sample['bill_amt1']\n",
    "y = sample['default']\n",
    "\n",
    "plt.scatter(x, y)\n",
    "plt.show()"
   ]
  },
  {
   "cell_type": "code",
   "execution_count": 52,
   "metadata": {},
   "outputs": [
    {
     "data": {
      "text/plain": [
       "<seaborn.axisgrid.FacetGrid at 0x7f8ab6a35d60>"
      ]
     },
     "execution_count": 52,
     "metadata": {},
     "output_type": "execute_result"
    },
    {
     "data": {
      "image/png": "[encoded data removed]",
      "text/plain": [
       "<Figure size 360x360 with 1 Axes>"
      ]
     },
     "metadata": {
      "needs_background": "light"
     },
     "output_type": "display_data"
    }
   ],
   "source": [
    "sn.lmplot(x = 'bill_amt1', y = 'default', data = df)"
   ]
  },
  {
   "cell_type": "code",
   "execution_count": 53,
   "metadata": {},
   "outputs": [
    {
     "data": {
      "image/png": "[encoded data removed]",
      "text/plain": [
       "<Figure size 432x288 with 1 Axes>"
      ]
     },
     "metadata": {
      "needs_background": "light"
     },
     "output_type": "display_data"
    }
   ],
   "source": [
    "x = sample['bill_amt2']\n",
    "y = sample['default']\n",
    "\n",
    "plt.scatter(x, y)\n",
    "plt.show()"
   ]
  },
  {
   "cell_type": "markdown",
   "metadata": {},
   "source": [
    "## Pay Amount vs Default"
   ]
  },
  {
   "cell_type": "code",
   "execution_count": 54,
   "metadata": {},
   "outputs": [
    {
     "data": {
      "image/png": "[encoded data removed]",
      "text/plain": [
       "<Figure size 432x288 with 1 Axes>"
      ]
     },
     "metadata": {
      "needs_background": "light"
     },
     "output_type": "display_data"
    }
   ],
   "source": [
    "sample2 = df.sample(100)\n",
    "\n",
    "x = sample2['pay_amt4']\n",
    "y = sample2['default']\n",
    "\n",
    "plt.scatter(x, y)\n",
    "plt.show()"
   ]
  },
  {
   "cell_type": "code",
   "execution_count": 55,
   "metadata": {},
   "outputs": [
    {
     "data": {
      "text/plain": [
       "<seaborn.axisgrid.FacetGrid at 0x7f8ab88adc10>"
      ]
     },
     "execution_count": 55,
     "metadata": {},
     "output_type": "execute_result"
    },
    {
     "data": {
      "image/png": "[encoded data removed]",
      "text/plain": [
       "<Figure size 360x360 with 1 Axes>"
      ]
     },
     "metadata": {
      "needs_background": "light"
     },
     "output_type": "display_data"
    }
   ],
   "source": [
    "sn.lmplot(x = 'pay_amt4', y = 'default', data = df)"
   ]
  },
  {
   "cell_type": "markdown",
   "metadata": {},
   "source": [
    "### Notes\n",
    "<br>\n",
    "So, as with most of the data, defaults are happening more with lower limit balances, lower bill amounts,<br>\n",
    "and lower pay amounts. Does this have to do with income level?"
   ]
  },
  {
   "cell_type": "markdown",
   "metadata": {},
   "source": [
    "# Other feature analysis"
   ]
  },
  {
   "cell_type": "markdown",
   "metadata": {},
   "source": [
    "## Pay Amt vs Bill Amt vs Default"
   ]
  },
  {
   "cell_type": "code",
   "execution_count": 56,
   "metadata": {},
   "outputs": [
    {
     "data": {
      "image/png": "[encoded data removed]",
      "text/plain": [
       "<Figure size 432x288 with 1 Axes>"
      ]
     },
     "metadata": {
      "needs_background": "light"
     },
     "output_type": "display_data"
    }
   ],
   "source": [
    "#showing here the bill amount vs the pay amount, with orange dots being ones that defaulted\n",
    "\n",
    "sample3 = df.sample(100)\n",
    "\n",
    "x = sample3['bill_amt1']\n",
    "y = sample3['pay_amt1']\n",
    "c = sample3['default'] #c is the variable that I want to use color the dots based on value\n",
    "\n",
    "plt.scatter(x, y, c = c, cmap = 'Paired') #cmap is the color map\n",
    "plt.xlabel('Bill Amount')\n",
    "plt.ylabel('Pay Amount')\n",
    "plt.show()"
   ]
  },
  {
   "cell_type": "code",
   "execution_count": 57,
   "metadata": {},
   "outputs": [
    {
     "data": {
      "text/plain": [
       "Text(0, 0.5, 'Pay Amount')"
      ]
     },
     "execution_count": 57,
     "metadata": {},
     "output_type": "execute_result"
    },
    {
     "data": {
      "image/png": "[encoded data removed]",
      "text/plain": [
       "<Figure size 432x288 with 1 Axes>"
      ]
     },
     "metadata": {
      "needs_background": "light"
     },
     "output_type": "display_data"
    }
   ],
   "source": [
    "#another way of doing what I did above\n",
    "\n",
    "#pay_dropzero = df.drop(['pay_amt1'] == 0) \n",
    "#bill_dropzero = df.drop(['bill_amt1'] == 0)\n",
    "#how can I drop rows containing zeroes in these columns?\n",
    "\n",
    "groups = df.groupby('default')\n",
    "for name, group in groups:\n",
    "    plt.plot(group.bill_amt1, group.pay_amt1, marker = 'o', linestyle = '', label = name)\n",
    "plt.legend()\n",
    "plt.xlabel('Bill Amount')\n",
    "plt.ylabel('Pay Amount')"
   ]
  },
  {
   "cell_type": "markdown",
   "metadata": {},
   "source": [
    "## Limit Bal vs Bill Amt vs Default"
   ]
  },
  {
   "cell_type": "code",
   "execution_count": 58,
   "metadata": {},
   "outputs": [
    {
     "data": {
      "text/plain": [
       "Text(0, 0.5, 'Limit Balance')"
      ]
     },
     "execution_count": 58,
     "metadata": {},
     "output_type": "execute_result"
    },
    {
     "data": {
      "image/png": "[encoded data removed]",
      "text/plain": [
       "<Figure size 432x288 with 1 Axes>"
      ]
     },
     "metadata": {
      "needs_background": "light"
     },
     "output_type": "display_data"
    }
   ],
   "source": [
    "groups = df.groupby('default')\n",
    "for name, group in groups:\n",
    "    plt.plot(group.bill_amt1, group.limit_bal, marker = 'o', linestyle = '', label = name)\n",
    "\n",
    "plt.legend()\n",
    "plt.xlabel('Bill amount')\n",
    "plt.ylabel('Limit Balance')"
   ]
  },
  {
   "cell_type": "markdown",
   "metadata": {},
   "source": [
    "## Limit Bal vs Pay Amt vs Default"
   ]
  },
  {
   "cell_type": "code",
   "execution_count": 59,
   "metadata": {},
   "outputs": [
    {
     "data": {
      "text/plain": [
       "Text(0, 0.5, 'Limit Balance')"
      ]
     },
     "execution_count": 59,
     "metadata": {},
     "output_type": "execute_result"
    },
    {
     "data": {
      "image/png": "[encoded data removed]",
      "text/plain": [
       "<Figure size 432x288 with 1 Axes>"
      ]
     },
     "metadata": {
      "needs_background": "light"
     },
     "output_type": "display_data"
    }
   ],
   "source": [
    "groups = df.groupby('default')\n",
    "for name, group in groups:\n",
    "    plt.plot(group.pay_amt1, group.limit_bal, marker = 'o', linestyle = '', label = name)\n",
    "\n",
    "plt.legend()\n",
    "plt.xlabel('Pay amount')\n",
    "plt.ylabel('Limit Balance')"
   ]
  },
  {
   "cell_type": "markdown",
   "metadata": {},
   "source": [
    "## Age vs Limit Bal vs Default"
   ]
  },
  {
   "cell_type": "code",
   "execution_count": 60,
   "metadata": {},
   "outputs": [
    {
     "data": {
      "text/plain": [
       "Text(0, 0.5, 'Limit Balance')"
      ]
     },
     "execution_count": 60,
     "metadata": {},
     "output_type": "execute_result"
    },
    {
     "data": {
      "image/png": "[encoded data removed]",
      "text/plain": [
       "<Figure size 432x288 with 1 Axes>"
      ]
     },
     "metadata": {
      "needs_background": "light"
     },
     "output_type": "display_data"
    }
   ],
   "source": [
    "groups = df.groupby('default')\n",
    "for name, group in groups:\n",
    "    plt.plot(group.age, group.limit_bal, marker = 'o', linestyle = '', label = name)\n",
    "\n",
    "plt.legend()\n",
    "plt.xlabel('Age')\n",
    "plt.ylabel('Limit Balance')"
   ]
  },
  {
   "cell_type": "code",
   "execution_count": 61,
   "metadata": {},
   "outputs": [
    {
     "data": {
      "text/plain": [
       "Text(0.5, 0, 'Limit Balance')"
      ]
     },
     "execution_count": 61,
     "metadata": {},
     "output_type": "execute_result"
    },
    {
     "data": {
      "image/png": "[encoded data removed]",
      "text/plain": [
       "<Figure size 432x288 with 1 Axes>"
      ]
     },
     "metadata": {
      "needs_background": "light"
     },
     "output_type": "display_data"
    }
   ],
   "source": [
    "did_default = df.loc[df['default'] == 1, :]\n",
    "default_bal = did_default['limit_bal']\n",
    "plt.hist(x = default_bal, bins = 20)\n",
    "plt.xlabel('Limit Balance')"
   ]
  },
  {
   "cell_type": "markdown",
   "metadata": {},
   "source": [
    "## Limit Bal vs Marriage"
   ]
  },
  {
   "cell_type": "code",
   "execution_count": 62,
   "metadata": {},
   "outputs": [
    {
     "data": {
      "image/png": "[encoded data removed]",
      "text/plain": [
       "<Figure size 360x360 with 1 Axes>"
      ]
     },
     "metadata": {
      "needs_background": "light"
     },
     "output_type": "display_data"
    }
   ],
   "source": [
    "lim_v_marriage = sn.catplot(x = 'marriage', y = 'limit_bal', data = df, kind = 'bar')"
   ]
  },
  {
   "cell_type": "markdown",
   "metadata": {},
   "source": [
    "## Limit Bal vs Education"
   ]
  },
  {
   "cell_type": "code",
   "execution_count": 63,
   "metadata": {},
   "outputs": [
    {
     "data": {
      "image/png": "[encoded data removed]",
      "text/plain": [
       "<Figure size 360x360 with 1 Axes>"
      ]
     },
     "metadata": {
      "needs_background": "light"
     },
     "output_type": "display_data"
    }
   ],
   "source": [
    "lim_school = sn.catplot(x = 'education_high school', y = 'limit_bal', data = df, kind = 'bar')"
   ]
  },
  {
   "cell_type": "code",
   "execution_count": 64,
   "metadata": {},
   "outputs": [
    {
     "data": {
      "image/png": "[encoded data removed]",
      "text/plain": [
       "<Figure size 360x360 with 1 Axes>"
      ]
     },
     "metadata": {
      "needs_background": "light"
     },
     "output_type": "display_data"
    }
   ],
   "source": [
    "lim_uni = sn.catplot(x = 'education_university', y = 'limit_bal', data = df, kind = 'bar')"
   ]
  },
  {
   "cell_type": "code",
   "execution_count": 65,
   "metadata": {},
   "outputs": [
    {
     "data": {
      "image/png": "[encoded data removed]",
      "text/plain": [
       "<Figure size 360x360 with 1 Axes>"
      ]
     },
     "metadata": {
      "needs_background": "light"
     },
     "output_type": "display_data"
    }
   ],
   "source": [
    "lim_grad = sn.catplot(x = 'education_graduate school', y = 'limit_bal', data = df, kind = 'bar')"
   ]
  },
  {
   "cell_type": "markdown",
   "metadata": {},
   "source": [
    "### Notes \n",
    "<br>\n",
    "Graduate school students default when given a higher limit balance. <br>\n",
    "Whereas those with less education defaulted at lower limit balance."
   ]
  },
  {
   "cell_type": "code",
   "execution_count": null,
   "metadata": {},
   "outputs": [],
   "source": []
  }
 ],
 "metadata": {
  "kernelspec": {
   "display_name": "Python 3",
   "language": "python",
   "name": "python3"
  },
  "language_info": {
   "codemirror_mode": {
    "name": "ipython",
    "version": 3
   },
   "file_extension": ".py",
   "mimetype": "text/x-python",
   "name": "python",
   "nbconvert_exporter": "python",
   "pygments_lexer": "ipython3",
   "version": "3.8.2"
  },
  "toc": {
   "base_numbering": 1,
   "nav_menu": {},
   "number_sections": true,
   "sideBar": true,
   "skip_h1_title": false,
   "title_cell": "Table of Contents",
   "title_sidebar": "Contents",
   "toc_cell": false,
   "toc_position": {},
   "toc_section_display": true,
   "toc_window_display": true
  }
 },
 "nbformat": 4,
 "nbformat_minor": 4
}
